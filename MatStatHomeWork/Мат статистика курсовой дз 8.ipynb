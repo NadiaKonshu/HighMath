{
 "cells": [
  {
   "cell_type": "markdown",
   "id": "560b7ca0",
   "metadata": {},
   "source": [
    "Провести дисперсионный анализ для определения того, есть ли различия среднего роста среди взрослых футболистов, хоккеистов и штангистов. Даны значения роста в трех группах случайно выбранных спортсменов: Футболисты: 173, 175, 180, 178, 177, 185, 183, 182. Хоккеисты: 177, 179, 180, 188, 177, 172, 171, 184, 180. Штангисты: 172, 173, 169, 177, 166, 180, 178, 177, 172, 166, 170. alpha = 0.05."
   ]
  },
  {
   "cell_type": "code",
   "execution_count": 61,
   "id": "0a86fe9a",
   "metadata": {},
   "outputs": [],
   "source": [
    "import numpy as np"
   ]
  },
  {
   "cell_type": "code",
   "execution_count": 62,
   "id": "8ed68163",
   "metadata": {},
   "outputs": [
    {
     "name": "stdout",
     "output_type": "stream",
     "text": [
      "28\n"
     ]
    }
   ],
   "source": [
    "footballers = 8\n",
    "hockeyplayers = 9\n",
    "weightlifters = 11\n",
    "total = footballers + hockeyplayers + weightlifters\n",
    "print(total)"
   ]
  },
  {
   "cell_type": "markdown",
   "id": "1a84523e",
   "metadata": {},
   "source": [
    "Всего три группы:"
   ]
  },
  {
   "cell_type": "code",
   "execution_count": 63,
   "id": "a8972554",
   "metadata": {},
   "outputs": [],
   "source": [
    "k = 3"
   ]
  },
  {
   "cell_type": "markdown",
   "id": "5bcd6a41",
   "metadata": {},
   "source": [
    "рост футболистов:"
   ]
  },
  {
   "cell_type": "code",
   "execution_count": 64,
   "id": "e899a459",
   "metadata": {},
   "outputs": [],
   "source": [
    "footballers_height = np.array([173, 175, 180, 178, 177, 185, 183, 182], dtype=np.float64)"
   ]
  },
  {
   "cell_type": "markdown",
   "id": "5aa147b9",
   "metadata": {},
   "source": [
    "рост футболистов:"
   ]
  },
  {
   "cell_type": "code",
   "execution_count": 65,
   "id": "e448739a",
   "metadata": {},
   "outputs": [],
   "source": [
    "hockeyplayers_height = np.array([177, 179, 180, 188, 177, 172, 171, 184, 180], dtype=np.float64)"
   ]
  },
  {
   "cell_type": "markdown",
   "id": "d195082f",
   "metadata": {},
   "source": [
    "рост штангистов:"
   ]
  },
  {
   "cell_type": "code",
   "execution_count": 66,
   "id": "37b67d9c",
   "metadata": {},
   "outputs": [],
   "source": [
    "weightlifters_height = np.array([172, 173, 169, 177, 166, 180, 178, 177, 172, 166, 170], dtype=np.float64)"
   ]
  },
  {
   "cell_type": "markdown",
   "id": "14f2f564",
   "metadata": {},
   "source": [
    "Проведем однофакторный дисперсионный анализ. Сначала найдем средний рост в каждой группе спортсменов:"
   ]
  },
  {
   "cell_type": "code",
   "execution_count": 67,
   "id": "d108ef08",
   "metadata": {},
   "outputs": [
    {
     "name": "stdout",
     "output_type": "stream",
     "text": [
      "179.125\n"
     ]
    }
   ],
   "source": [
    "footballers_height_mean = np.mean(footballers_height)\n",
    "print(footballers_high_mean)"
   ]
  },
  {
   "cell_type": "code",
   "execution_count": 68,
   "id": "d91d9e46",
   "metadata": {},
   "outputs": [
    {
     "name": "stdout",
     "output_type": "stream",
     "text": [
      "178.66666666666666\n"
     ]
    }
   ],
   "source": [
    "hockeyplayers_height_mean = np.mean(hockeyplayers_height)\n",
    "print(hockeyplayers_height_mean)"
   ]
  },
  {
   "cell_type": "code",
   "execution_count": 69,
   "id": "012c8999",
   "metadata": {},
   "outputs": [
    {
     "name": "stdout",
     "output_type": "stream",
     "text": [
      "172.72727272727272\n"
     ]
    }
   ],
   "source": [
    "weightlifters_height_mean = np.mean(weightlifters_height)\n",
    "print(weightlifters_height_mean)"
   ]
  },
  {
   "cell_type": "markdown",
   "id": "88343ac4",
   "metadata": {},
   "source": [
    "Видно, что средни й рост не сильно отличается. Установим, что это отличие статистически значимо. Для этого сначала соберем \n",
    "\n",
    "все значения роста игроков в один массив:"
   ]
  },
  {
   "cell_type": "code",
   "execution_count": 70,
   "id": "c1830fcf",
   "metadata": {},
   "outputs": [
    {
     "data": {
      "text/plain": [
       "array([173., 175., 180., 178., 177., 185., 183., 182., 177., 179., 180.,\n",
       "       188., 177., 172., 171., 184., 180., 172., 173., 169., 177., 166.,\n",
       "       180., 178., 177., 172., 166., 170.])"
      ]
     },
     "execution_count": 70,
     "metadata": {},
     "output_type": "execute_result"
    }
   ],
   "source": [
    "players_all = np.concatenate([footballers_height, hockeyplayers_height, weightlifters_height])\n",
    "players_all"
   ]
  },
  {
   "cell_type": "markdown",
   "id": "32631d1a",
   "metadata": {},
   "source": [
    "Найдем среднее значение роста по всем значениям:"
   ]
  },
  {
   "cell_type": "code",
   "execution_count": 71,
   "id": "77d6547c",
   "metadata": {},
   "outputs": [
    {
     "name": "stdout",
     "output_type": "stream",
     "text": [
      "176.46428571428572\n"
     ]
    }
   ],
   "source": [
    "players_mean = np.mean(players_all)\n",
    "print(players_mean)"
   ]
  },
  {
   "cell_type": "markdown",
   "id": "43d5794b",
   "metadata": {},
   "source": [
    "Найдем $S^2$ — сумму квадратов отклонений наблюдений от общего среднего:"
   ]
  },
  {
   "cell_type": "code",
   "execution_count": 72,
   "id": "9a712bd5",
   "metadata": {},
   "outputs": [
    {
     "data": {
      "text/plain": [
       "830.9642857142854"
      ]
     },
     "execution_count": 72,
     "metadata": {},
     "output_type": "execute_result"
    }
   ],
   "source": [
    "s2 = np.sum((players_all - players_mean)**2)\n",
    "s2"
   ]
  },
  {
   "cell_type": "markdown",
   "id": "4c4ec8cc",
   "metadata": {},
   "source": [
    "Найдем $S^2_F$ - сумму квадратов отклонений средних групповых значений от общего среднего:"
   ]
  },
  {
   "cell_type": "code",
   "execution_count": 87,
   "id": "22f23f39",
   "metadata": {},
   "outputs": [
    {
     "data": {
      "text/plain": [
       "253.9074675324678"
      ]
     },
     "execution_count": 87,
     "metadata": {},
     "output_type": "execute_result"
    }
   ],
   "source": [
    "s2_f = ((footballers_height_mean - players_mean)**2) * footballers + ((hockeyplayers_height_mean - players_mean)**2) * hockeyplayers + ((weightlifters_height_mean - players_mean)**2) * weightlifters\n",
    "s2_f"
   ]
  },
  {
   "cell_type": "markdown",
   "id": "706a785b",
   "metadata": {},
   "source": [
    "Найдем  𝑆2ост\n",
    "  — остаточную сумму квадратов отклонений: 𝑆2\n",
    "  — 𝑆2𝐹"
   ]
  },
  {
   "cell_type": "code",
   "execution_count": 88,
   "id": "5299260b",
   "metadata": {},
   "outputs": [
    {
     "data": {
      "text/plain": [
       "577.0568181818177"
      ]
     },
     "execution_count": 88,
     "metadata": {},
     "output_type": "execute_result"
    }
   ],
   "source": [
    "s_ост = s2 - s2_f\n",
    "s_ост"
   ]
  },
  {
   "cell_type": "markdown",
   "id": "f5962083",
   "metadata": {},
   "source": [
    "Удостоверимся, что соблюдается равенство  𝑆2=𝑆2𝐹+𝑆2ост\n",
    " :"
   ]
  },
  {
   "cell_type": "code",
   "execution_count": 89,
   "id": "d564012b",
   "metadata": {},
   "outputs": [
    {
     "name": "stdout",
     "output_type": "stream",
     "text": [
      "830.9642857142854\n",
      "830.9642857142854\n"
     ]
    }
   ],
   "source": [
    "print(s2)\n",
    "print(s2_f + s_ост)"
   ]
  },
  {
   "cell_type": "markdown",
   "id": "39faf21a",
   "metadata": {},
   "source": [
    "Найдем общую дисперсию:"
   ]
  },
  {
   "cell_type": "code",
   "execution_count": 92,
   "id": "c100ba48",
   "metadata": {},
   "outputs": [
    {
     "data": {
      "text/plain": [
       "30.776455026455015"
      ]
     },
     "execution_count": 92,
     "metadata": {},
     "output_type": "execute_result"
    }
   ],
   "source": [
    "sigma2_general = s2 / (total - 1)\n",
    "sigma2_general"
   ]
  },
  {
   "cell_type": "markdown",
   "id": "57abed83",
   "metadata": {},
   "source": [
    "Найдем факторную дисперсию:"
   ]
  },
  {
   "cell_type": "code",
   "execution_count": 93,
   "id": "ef269329",
   "metadata": {},
   "outputs": [
    {
     "data": {
      "text/plain": [
       "126.9537337662339"
      ]
     },
     "execution_count": 93,
     "metadata": {},
     "output_type": "execute_result"
    }
   ],
   "source": [
    "sigma2_f = s2_f / (k - 1)\n",
    "sigma2_f"
   ]
  },
  {
   "cell_type": "markdown",
   "id": "5dee7300",
   "metadata": {},
   "source": [
    "Найдем остаточную дисперсию:"
   ]
  },
  {
   "cell_type": "code",
   "execution_count": 94,
   "id": "21695998",
   "metadata": {},
   "outputs": [
    {
     "data": {
      "text/plain": [
       "23.082272727272706"
      ]
     },
     "execution_count": 94,
     "metadata": {},
     "output_type": "execute_result"
    }
   ],
   "source": [
    "sigma2_ост = s_ост / (total - k)\n",
    "sigma2_ост"
   ]
  },
  {
   "cell_type": "markdown",
   "id": "e90a3e66",
   "metadata": {},
   "source": [
    "Вычислим  𝐹𝐻\n",
    " :"
   ]
  },
  {
   "cell_type": "code",
   "execution_count": 98,
   "id": "a814833e",
   "metadata": {},
   "outputs": [
    {
     "data": {
      "text/plain": [
       "5.5000534508126036"
      ]
     },
     "execution_count": 98,
     "metadata": {},
     "output_type": "execute_result"
    }
   ],
   "source": [
    "F_h = sigma2_f / sigma2_ост\n",
    "F_h"
   ]
  },
  {
   "cell_type": "markdown",
   "id": "0a1b9dea",
   "metadata": {},
   "source": [
    "Найдем значение  𝐹крит\n",
    "  в таблице критических точек распределения Фишера-Снедекора для заданного уровня значимости  𝛼=0.05\n",
    "  и двух степеней свободы:\n",
    "\n",
    "𝑑𝑓межд=𝑘−1=3−1=2\n",
    "  и  𝑑𝑓внутр=𝑛−𝑘=28−3=25Для данных значений крит\n",
    ". Так как \n",
    "крит\n",
    "\n",
    " Для данных значений $F_{крит} = 3.38$. Так как $F_H > F_{крит}$,, отвергнута гипотеза Н0, различие роста в трех группах статистически значимо."
   ]
  },
  {
   "cell_type": "code",
   "execution_count": 96,
   "id": "25959d11",
   "metadata": {},
   "outputs": [
    {
     "data": {
      "text/plain": [
       "0.30555761769498"
      ]
     },
     "execution_count": 96,
     "metadata": {},
     "output_type": "execute_result"
    }
   ],
   "source": [
    "eta2 = s2_f / s2\n",
    "eta2"
   ]
  },
  {
   "cell_type": "markdown",
   "id": "19f9cd6e",
   "metadata": {},
   "source": [
    "Значение η2 далеко от 1 — значит, различие среднего роста игроков в трех группах является статистически не значимым."
   ]
  },
  {
   "cell_type": "code",
   "execution_count": null,
   "id": "e726d47e",
   "metadata": {},
   "outputs": [],
   "source": []
  }
 ],
 "metadata": {
  "kernelspec": {
   "display_name": "Python 3 (ipykernel)",
   "language": "python",
   "name": "python3"
  },
  "language_info": {
   "codemirror_mode": {
    "name": "ipython",
    "version": 3
   },
   "file_extension": ".py",
   "mimetype": "text/x-python",
   "name": "python",
   "nbconvert_exporter": "python",
   "pygments_lexer": "ipython3",
   "version": "3.9.12"
  }
 },
 "nbformat": 4,
 "nbformat_minor": 5
}
